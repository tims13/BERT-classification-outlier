{
 "cells": [
  {
   "cell_type": "code",
   "execution_count": 8,
   "metadata": {},
   "outputs": [],
   "source": [
    "import matplotlib.pyplot as plt\n",
    "import pandas as pd\n",
    "import torch\n",
    "import numpy as np\n",
    "\n",
    "from torchtext.data import Field, TabularDataset, BucketIterator, Iterator\n",
    "\n",
    "import torch.nn as nn\n",
    "from transformers import BertTokenizer, BertForSequenceClassification\n",
    "\n",
    "import torch.optim as optim\n",
    "\n",
    "from sklearn.metrics import accuracy_score, classification_report, confusion_matrix\n",
    "import seaborn as sns"
   ]
  },
  {
   "cell_type": "code",
   "execution_count": 9,
   "metadata": {},
   "outputs": [],
   "source": [
    "from sklearn.model_selection import train_test_split"
   ]
  },
  {
   "cell_type": "code",
   "execution_count": 10,
   "metadata": {},
   "outputs": [],
   "source": [
    "from utils import load_metrics"
   ]
  },
  {
   "cell_type": "markdown",
   "metadata": {},
   "source": [
    "## Preprocess"
   ]
  },
  {
   "cell_type": "code",
   "execution_count": 4,
   "metadata": {},
   "outputs": [],
   "source": [
    "des_path = 'laptop/'\n",
    "needs_file_path = des_path + 'needs_byasin.csv'\n",
    "needs_preprocessed_path = des_path + 'needs.csv'\n",
    "review_file_path = des_path + 'amazon_reviews.csv'\n",
    "\n",
    "novel_file_path = des_path + 'novel_needs.xlsx'\n",
    "novel_needs_csv_path = des_path + 'novel_needs.csv'"
   ]
  },
  {
   "cell_type": "code",
   "execution_count": 4,
   "metadata": {},
   "outputs": [],
   "source": [
    "train_test_ratio = 0.90\n",
    "train_valid_ratio = 0.80\n",
    "first_n_words = 200"
   ]
  },
  {
   "cell_type": "code",
   "execution_count": 5,
   "metadata": {},
   "outputs": [],
   "source": [
    "def trim_string(x):\n",
    "\n",
    "    x = x.split(maxsplit=first_n_words)\n",
    "    x = ' '.join(x[:first_n_words])\n",
    "\n",
    "    return x"
   ]
  },
  {
   "cell_type": "code",
   "execution_count": 6,
   "metadata": {},
   "outputs": [],
   "source": [
    "needs = pd.read_csv(needs_file_path, index_col=0)\n",
    "\n",
    "data_needs = needs.iloc[:,0].astype(str)\n",
    "data_needs = data_needs[data_needs != 'nan']\n",
    "\n",
    "for index in range(1, needs.shape[1]):\n",
    "    temp = needs.iloc[:,index].astype(str)\n",
    "    temp = temp[temp != 'nan']\n",
    "    data_needs = pd.concat([data_needs, temp])\n",
    "\n",
    "data_needs.reset_index(drop=True, inplace=True)\n",
    "data_needs.to_csv(needs_preprocessed_path, index=0)\n",
    "\n",
    "data_needs = pd.read_csv(needs_preprocessed_path)\n",
    "\n",
    "data_needs[\"label\"] = 1\n",
    "data_needs['0'] = data_needs['0'].apply(trim_string)\n",
    "data_needs.rename(columns={'0': 'text'}, inplace=True)\n",
    "\n",
    "\n",
    "data_review = pd.read_csv(review_file_path)\n",
    "data_review[\"label\"] = 0\n",
    "data_review['0'] = data_review['0'].apply(trim_string)\n",
    "data_review.rename(columns={'0': 'text'}, inplace=True)\n"
   ]
  },
  {
   "cell_type": "code",
   "execution_count": null,
   "metadata": {},
   "outputs": [],
   "source": []
  },
  {
   "cell_type": "code",
   "execution_count": 7,
   "metadata": {},
   "outputs": [],
   "source": [
    "# Train - Test\n",
    "df_need_full_train, df_need_test = train_test_split(data_needs, train_size = train_test_ratio, random_state=1)\n",
    "df_review_full_train, df_review_test = train_test_split(data_review, train_size = train_test_ratio, random_state=1)"
   ]
  },
  {
   "cell_type": "code",
   "execution_count": 8,
   "metadata": {},
   "outputs": [
    {
     "data": {
      "text/plain": [
       "((963, 2), (107, 2))"
      ]
     },
     "execution_count": 8,
     "metadata": {},
     "output_type": "execute_result"
    }
   ],
   "source": [
    "df_need_full_train.shape, df_need_test.shape"
   ]
  },
  {
   "cell_type": "code",
   "execution_count": 9,
   "metadata": {},
   "outputs": [],
   "source": [
    "# Train - valid\n",
    "df_need_train, df_need_valid = train_test_split(df_need_full_train, train_size = train_valid_ratio, random_state=1)\n",
    "df_review_train, df_review_valid = train_test_split(df_review_full_train, train_size = train_valid_ratio, random_state=1)"
   ]
  },
  {
   "cell_type": "code",
   "execution_count": 10,
   "metadata": {},
   "outputs": [
    {
     "data": {
      "text/plain": [
       "((770, 2), (193, 2))"
      ]
     },
     "execution_count": 10,
     "metadata": {},
     "output_type": "execute_result"
    }
   ],
   "source": [
    "df_need_train.shape, df_need_valid.shape"
   ]
  },
  {
   "cell_type": "code",
   "execution_count": 11,
   "metadata": {},
   "outputs": [],
   "source": [
    "df_train = pd.concat([df_need_train, df_review_train], ignore_index=True, sort=False)\n",
    "df_valid = pd.concat([df_need_valid, df_review_valid], ignore_index=True, sort=False)\n",
    "df_test = pd.concat([df_need_test, df_review_test], ignore_index=True, sort=False)"
   ]
  },
  {
   "cell_type": "code",
   "execution_count": 12,
   "metadata": {},
   "outputs": [],
   "source": [
    "df_train.to_csv(des_path + 'train.csv', index=False)\n",
    "df_valid.to_csv(des_path + 'valid.csv', index=False)\n",
    "df_test.to_csv(des_path + 'test.csv', index=False)"
   ]
  },
  {
   "cell_type": "code",
   "execution_count": 11,
   "metadata": {},
   "outputs": [],
   "source": [
    "# preprocess novel data\n",
    "novel_needs = pd.read_excel(novel_file_path, index_col=0)"
   ]
  },
  {
   "cell_type": "code",
   "execution_count": 12,
   "metadata": {},
   "outputs": [],
   "source": [
    "novel_needs[\"label\"] = 1\n",
    "novel_needs.rename(columns={'make-up reviews': 'text'}, inplace=True)"
   ]
  },
  {
   "cell_type": "code",
   "execution_count": 13,
   "metadata": {},
   "outputs": [
    {
     "data": {
      "text/html": [
       "<div>\n",
       "<style scoped>\n",
       "    .dataframe tbody tr th:only-of-type {\n",
       "        vertical-align: middle;\n",
       "    }\n",
       "\n",
       "    .dataframe tbody tr th {\n",
       "        vertical-align: top;\n",
       "    }\n",
       "\n",
       "    .dataframe thead th {\n",
       "        text-align: right;\n",
       "    }\n",
       "</style>\n",
       "<table border=\"1\" class=\"dataframe\">\n",
       "  <thead>\n",
       "    <tr style=\"text-align: right;\">\n",
       "      <th></th>\n",
       "      <th>text</th>\n",
       "      <th>label</th>\n",
       "    </tr>\n",
       "    <tr>\n",
       "      <th>ID</th>\n",
       "      <th></th>\n",
       "      <th></th>\n",
       "    </tr>\n",
       "  </thead>\n",
       "  <tbody>\n",
       "    <tr>\n",
       "      <th>1</th>\n",
       "      <td>The laptop is very small and portable which I ...</td>\n",
       "      <td>1</td>\n",
       "    </tr>\n",
       "    <tr>\n",
       "      <th>2</th>\n",
       "      <td>I mainly use my laptop to create things. This ...</td>\n",
       "      <td>1</td>\n",
       "    </tr>\n",
       "    <tr>\n",
       "      <th>3</th>\n",
       "      <td>This is the smallest laptop I can find, but I ...</td>\n",
       "      <td>1</td>\n",
       "    </tr>\n",
       "    <tr>\n",
       "      <th>4</th>\n",
       "      <td>This laptop is not bad, but the keyboard is ha...</td>\n",
       "      <td>1</td>\n",
       "    </tr>\n",
       "    <tr>\n",
       "      <th>5</th>\n",
       "      <td>The screen size of this laptop is perhaps the ...</td>\n",
       "      <td>1</td>\n",
       "    </tr>\n",
       "    <tr>\n",
       "      <th>6</th>\n",
       "      <td>I have a high demand for the screen. This lapt...</td>\n",
       "      <td>1</td>\n",
       "    </tr>\n",
       "    <tr>\n",
       "      <th>7</th>\n",
       "      <td>This gaming laptop is very good and I like it....</td>\n",
       "      <td>1</td>\n",
       "    </tr>\n",
       "    <tr>\n",
       "      <th>8</th>\n",
       "      <td>Bought the laptop last month and in general I ...</td>\n",
       "      <td>1</td>\n",
       "    </tr>\n",
       "    <tr>\n",
       "      <th>9</th>\n",
       "      <td>Received the laptop last week and so far so go...</td>\n",
       "      <td>1</td>\n",
       "    </tr>\n",
       "    <tr>\n",
       "      <th>10</th>\n",
       "      <td>This laptop is cool and I like it very much. H...</td>\n",
       "      <td>1</td>\n",
       "    </tr>\n",
       "    <tr>\n",
       "      <th>11</th>\n",
       "      <td>The performance of this computer is strong eno...</td>\n",
       "      <td>1</td>\n",
       "    </tr>\n",
       "    <tr>\n",
       "      <th>12</th>\n",
       "      <td>This computer is not bad, but it's too heavy. ...</td>\n",
       "      <td>1</td>\n",
       "    </tr>\n",
       "    <tr>\n",
       "      <th>13</th>\n",
       "      <td>I like this computer very much. It would be be...</td>\n",
       "      <td>1</td>\n",
       "    </tr>\n",
       "    <tr>\n",
       "      <th>14</th>\n",
       "      <td>Is there a laptop that can connect more devices?</td>\n",
       "      <td>1</td>\n",
       "    </tr>\n",
       "    <tr>\n",
       "      <th>15</th>\n",
       "      <td>The performance of this computer is good, but ...</td>\n",
       "      <td>1</td>\n",
       "    </tr>\n",
       "  </tbody>\n",
       "</table>\n",
       "</div>"
      ],
      "text/plain": [
       "                                                 text  label\n",
       "ID                                                          \n",
       "1   The laptop is very small and portable which I ...      1\n",
       "2   I mainly use my laptop to create things. This ...      1\n",
       "3   This is the smallest laptop I can find, but I ...      1\n",
       "4   This laptop is not bad, but the keyboard is ha...      1\n",
       "5   The screen size of this laptop is perhaps the ...      1\n",
       "6   I have a high demand for the screen. This lapt...      1\n",
       "7   This gaming laptop is very good and I like it....      1\n",
       "8   Bought the laptop last month and in general I ...      1\n",
       "9   Received the laptop last week and so far so go...      1\n",
       "10  This laptop is cool and I like it very much. H...      1\n",
       "11  The performance of this computer is strong eno...      1\n",
       "12  This computer is not bad, but it's too heavy. ...      1\n",
       "13  I like this computer very much. It would be be...      1\n",
       "14   Is there a laptop that can connect more devices?      1\n",
       "15  The performance of this computer is good, but ...      1"
      ]
     },
     "execution_count": 13,
     "metadata": {},
     "output_type": "execute_result"
    }
   ],
   "source": [
    "novel_needs"
   ]
  },
  {
   "cell_type": "code",
   "execution_count": 14,
   "metadata": {},
   "outputs": [],
   "source": [
    "novel_needs.to_csv(novel_needs_csv_path, header=1, index=0)"
   ]
  },
  {
   "cell_type": "code",
   "execution_count": null,
   "metadata": {},
   "outputs": [],
   "source": []
  }
 ],
 "metadata": {
  "kernelspec": {
   "display_name": "Python 3",
   "language": "python",
   "name": "python3"
  },
  "language_info": {
   "codemirror_mode": {
    "name": "ipython",
    "version": 3
   },
   "file_extension": ".py",
   "mimetype": "text/x-python",
   "name": "python",
   "nbconvert_exporter": "python",
   "pygments_lexer": "ipython3",
   "version": "3.7.4"
  }
 },
 "nbformat": 4,
 "nbformat_minor": 4
}
